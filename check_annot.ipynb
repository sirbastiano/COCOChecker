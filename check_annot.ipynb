{
 "cells": [
  {
   "cell_type": "code",
   "execution_count": 2,
   "metadata": {},
   "outputs": [],
   "source": [
    "import json\n",
    "\n",
    "def are_bboxes_within_bounds(coco_file_path, image_width=512, image_height=512):\n",
    "    \"\"\"\n",
    "    Checks if all bounding boxes in a COCO file are within the specified image dimensions.\n",
    "    \n",
    "    Args:\n",
    "    coco_file_path (str): Path to the COCO file.\n",
    "    image_width (int): Width of the image.\n",
    "    image_height (int): Height of the image.\n",
    "    \n",
    "    Returns:\n",
    "    bool: True if all bboxes are within bounds, False otherwise.\n",
    "    \"\"\"\n",
    "    with open(coco_file_path, 'r') as file:\n",
    "        coco_data = json.load(file)\n",
    "\n",
    "    for annotation in coco_data['annotations']:\n",
    "        x_min, y_min, width, height = annotation['bbox']\n",
    "        x_max = x_min + width\n",
    "        y_max = y_min + height\n",
    "\n",
    "        if not (0 <= x_min <= image_width and 0 <= x_max <= image_width and\n",
    "                0 <= y_min <= image_height and 0 <= y_max <= image_height):\n",
    "            return False\n",
    "\n",
    "    return True\n"
   ]
  },
  {
   "cell_type": "code",
   "execution_count": 3,
   "metadata": {},
   "outputs": [],
   "source": [
    "def adjust_bboxes(coco_data, image_width=512, image_height=512):\n",
    "    \"\"\"\n",
    "    Adjusts the bounding boxes in the COCO data to fit within the specified image dimensions.\n",
    "\n",
    "    Args:\n",
    "    coco_data (dict): COCO data loaded as a Python dictionary.\n",
    "    image_width (int): Width of the image.\n",
    "    image_height (int): Height of the image.\n",
    "\n",
    "    Returns:\n",
    "    dict: COCO data with adjusted bounding boxes.\n",
    "    \"\"\"\n",
    "    for annotation in coco_data['annotations']:\n",
    "        x_min, y_min, width, height = annotation['bbox']\n",
    "\n",
    "        # Clip the bounding box coordinates\n",
    "        x_min = max(0, x_min)\n",
    "        y_min = max(0, y_min)\n",
    "        x_max = min(x_min + width, image_width)\n",
    "        y_max = min(y_min + height, image_height)\n",
    "\n",
    "        # Update the bounding box with new coordinates\n",
    "        new_width = x_max - x_min\n",
    "        new_height = y_max - y_min\n",
    "        annotation['bbox'] = [x_min, y_min, new_width, new_height]\n",
    "\n",
    "    return coco_data\n"
   ]
  },
  {
   "cell_type": "code",
   "execution_count": 4,
   "metadata": {},
   "outputs": [
    {
     "data": {
      "text/plain": [
       "False"
      ]
     },
     "execution_count": 4,
     "metadata": {},
     "output_type": "execute_result"
    }
   ],
   "source": [
    "are_bboxes_within_bounds(coco_file_path='/Users/robertodelprete/Desktop/AjustCOCO/Dataset/annotations/instances_val2017.json')"
   ]
  },
  {
   "cell_type": "code",
   "execution_count": 7,
   "metadata": {},
   "outputs": [],
   "source": [
    "import json\n",
    "\n",
    "coco_file_path='/Users/robertodelprete/Desktop/AjustCOCO/Dataset/annotations/instances_val2017.json'\n",
    "\n",
    "with open(coco_file_path, 'r') as file:\n",
    "    coco_data = json.load(file)\n",
    "    \n",
    "new_coco = adjust_bboxes(coco_data=coco_data)\n",
    "# save the new json file:\n",
    "with open(coco_file_path, 'w') as f:\n",
    "    json.dump(new_coco, f)"
   ]
  }
 ],
 "metadata": {
  "kernelspec": {
   "display_name": "py38",
   "language": "python",
   "name": "python3"
  },
  "language_info": {
   "codemirror_mode": {
    "name": "ipython",
    "version": 3
   },
   "file_extension": ".py",
   "mimetype": "text/x-python",
   "name": "python",
   "nbconvert_exporter": "python",
   "pygments_lexer": "ipython3",
   "version": "3.8.18"
  }
 },
 "nbformat": 4,
 "nbformat_minor": 2
}
