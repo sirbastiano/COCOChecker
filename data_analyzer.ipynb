{
 "cells": [
  {
   "cell_type": "code",
   "execution_count": 1,
   "metadata": {},
   "outputs": [
    {
     "name": "stdout",
     "output_type": "stream",
     "text": [
      "All image IDs are unique.\n",
      "All annotation IDs are unique.\n",
      "All image IDs are unique.\n",
      "All annotation IDs are unique.\n"
     ]
    }
   ],
   "source": [
    "import json\n",
    "from collections import Counter\n",
    "\n",
    "def check_coco_id_uniqueness(annotation_file):\n",
    "    with open(annotation_file, 'r') as f:\n",
    "        data = json.load(f)\n",
    "    \n",
    "    image_ids = [img['id'] for img in data['images']]\n",
    "    annotation_ids = [ann['id'] for ann in data['annotations']]\n",
    "    \n",
    "    image_id_counts = Counter(image_ids)\n",
    "    annotation_id_counts = Counter(annotation_ids)\n",
    "    \n",
    "    duplicate_image_ids = [item for item, count in image_id_counts.items() if count > 1]\n",
    "    duplicate_annotation_ids = [item for item, count in annotation_id_counts.items() if count > 1]\n",
    "    \n",
    "    if len(duplicate_image_ids) == 0:\n",
    "        print(\"All image IDs are unique.\")\n",
    "    else:\n",
    "        print(f\"Warning: Duplicate image IDs found: {duplicate_image_ids}\")\n",
    "        \n",
    "    if len(duplicate_annotation_ids) == 0:\n",
    "        print(\"All annotation IDs are unique.\")\n",
    "    else:\n",
    "        print(f\"Warning: Duplicate annotation IDs found: {duplicate_annotation_ids}\")\n",
    "        # Find the images containing the non-unique annotation ids\n",
    "        non_unique_ann_image_ids = []\n",
    "        for ann_id in duplicate_annotation_ids:\n",
    "            image_ids = [ann['image_id'] for ann in data['annotations'] if ann['id'] == ann_id]\n",
    "            non_unique_ann_image_ids.extend(image_ids)\n",
    "        non_unique_ann_image_ids = list(set(non_unique_ann_image_ids))\n",
    "        print(f\"Images containing non-unique annotation ids: {non_unique_ann_image_ids}\")\n",
    "        \n",
    "    return data\n",
    "\n",
    "# Example usage\n",
    "annotation_file = 'Dataset/annotations/instances_val2017.json'\n",
    "data = check_coco_id_uniqueness(annotation_file)\n",
    "\n",
    "# Example usage\n",
    "annotation_file = 'Dataset/annotations/instances_train2017.json'\n",
    "data = check_coco_id_uniqueness(annotation_file)"
   ]
  },
  {
   "cell_type": "code",
   "execution_count": 7,
   "metadata": {},
   "outputs": [],
   "source": [
    "json_path = 'Dataset/annotations/instances_val2017.json'\n",
    "json = json.load(open(json_path, 'r'))\n",
    "standard_category = json['categories']"
   ]
  },
  {
   "cell_type": "code",
   "execution_count": 8,
   "metadata": {},
   "outputs": [
    {
     "name": "stdout",
     "output_type": "stream",
     "text": [
      "dict_keys(['info', 'images', 'annotations', 'licenses', 'categories'])\n",
      "[{'supercategory': 'landmark', 'id': 3, 'name': 'crater'}]\n"
     ]
    }
   ],
   "source": [
    "print(data.keys())\n",
    "print(standard_category)"
   ]
  },
  {
   "cell_type": "markdown",
   "metadata": {},
   "source": [
    "# Adjust BBoxes:"
   ]
  },
  {
   "cell_type": "code",
   "execution_count": 9,
   "metadata": {},
   "outputs": [],
   "source": [
    "# If the point is outside the image, it is adjusted:\n",
    "def adjust_bbox_annotation(annotation):\n",
    "    def convert_num(num):\n",
    "        if num <=0:\n",
    "            return 0\n",
    "        elif num >= 511:\n",
    "            return 512\n",
    "        else:\n",
    "            return int(num)\n",
    "        \n",
    "    bbox = annotation['bbox']\n",
    "    new_bbox = [convert_num(x) for x in bbox]\n",
    "    x_min, y_min, width, height = new_bbox\n",
    "    # [x_min, y_min, width, height]\n",
    "    \n",
    "    destra = x_min + width\n",
    "    sotto = y_min + height\n",
    "    \n",
    "    if destra >= 512:\n",
    "        width = 512 - x_min\n",
    "    \n",
    "    if sotto >= 512:\n",
    "        height = 512 - y_min\n",
    "\n",
    "    destra = x_min + width\n",
    "    sotto = y_min + height\n",
    "    \n",
    "    assert destra <= 512, f'ERRORE A DESTRA: {destra}'\n",
    "    assert sotto <= 512, f'ERRORE SOTTO: {sotto}'\n",
    "    \n",
    "    annotation['bbox'] = new_bbox\n",
    "    return annotation\n",
    "\n",
    "\n",
    "adjusted_annotations_list = [adjust_bbox_annotation(x) for x in data['annotations']]\n",
    "data['annotations'] = adjusted_annotations_list"
   ]
  },
  {
   "cell_type": "code",
   "execution_count": 10,
   "metadata": {},
   "outputs": [],
   "source": [
    "# adjust the data file, iscrowd = 0\n",
    "for ann in data['annotations']:\n",
    "    ann['iscrowd'] = 0\n",
    "    \n",
    "# adjust the area of the annotations:\n",
    "for ann in data['annotations']:\n",
    "    ann['area'] = ann['bbox'][2] * ann['bbox'][3]\n",
    "    \n",
    "data['categories'] = standard_category"
   ]
  },
  {
   "cell_type": "code",
   "execution_count": 6,
   "metadata": {},
   "outputs": [],
   "source": [
    "import json\n",
    "# save the new json file:\n",
    "with open('RevAnnots/instances_val2017.json', 'w') as f:\n",
    "    json.dump(data, f)"
   ]
  },
  {
   "cell_type": "markdown",
   "metadata": {},
   "source": [
    "# Adjust Annotations IDs"
   ]
  },
  {
   "cell_type": "code",
   "execution_count": null,
   "metadata": {},
   "outputs": [],
   "source": [
    "image_ids = [img['id'] for img in data['images']]\n",
    "annotation_ids = [ann['id'] for ann in data['annotations']]"
   ]
  },
  {
   "cell_type": "code",
   "execution_count": null,
   "metadata": {},
   "outputs": [],
   "source": [
    "# Step 2: Update annotation IDs\n",
    "for i, annotation in enumerate(data['annotations']):\n",
    "    annotation['id'] = i + 1  # Making IDs start from 1\n",
    "\n",
    "# Step 3: Save the modified JSON data\n",
    "with open('/home/roberto/PythonProjects/S2RAWVessel/mmdetection/data/S2ESA/sen2ships/sen2ships/coco_annotations_rev_RDP.json', 'w') as f:\n",
    "    json.dump(data, f, indent=4)"
   ]
  }
 ],
 "metadata": {
  "kernelspec": {
   "display_name": "openmmlab",
   "language": "python",
   "name": "python3"
  },
  "language_info": {
   "codemirror_mode": {
    "name": "ipython",
    "version": 3
   },
   "file_extension": ".py",
   "mimetype": "text/x-python",
   "name": "python",
   "nbconvert_exporter": "python",
   "pygments_lexer": "ipython3",
   "version": "3.8.18"
  },
  "orig_nbformat": 4
 },
 "nbformat": 4,
 "nbformat_minor": 2
}
